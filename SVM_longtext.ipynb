{
 "cells": [
  {
   "cell_type": "code",
   "execution_count": 1,
   "metadata": {},
   "outputs": [],
   "source": [
    "import pandas as pd\n",
    "import numpy as np\n",
    "import spacy\n",
    "import scipy as sp\n",
    "import sklearn\n",
    "\n"
   ]
  },
  {
   "cell_type": "code",
   "execution_count": 36,
   "metadata": {},
   "outputs": [],
   "source": [
    "# !pip install spacy"
   ]
  },
  {
   "cell_type": "code",
   "execution_count": 37,
   "metadata": {},
   "outputs": [],
   "source": [
    "df = pd.read_csv('manually_fixed.csv')\n"
   ]
  },
  {
   "cell_type": "code",
   "execution_count": 38,
   "metadata": {},
   "outputs": [],
   "source": [
    "df.head()\n",
    "\n",
    "newdf= df[['failure_mode_tm', 'long_text_notification']]"
   ]
  },
  {
   "cell_type": "code",
   "execution_count": 39,
   "metadata": {},
   "outputs": [
    {
     "data": {
      "text/plain": [
       "(1532, 2)"
      ]
     },
     "execution_count": 39,
     "metadata": {},
     "output_type": "execute_result"
    }
   ],
   "source": [
    "newdf.head()\n",
    "newdf.shape"
   ]
  },
  {
   "cell_type": "code",
   "execution_count": 40,
   "metadata": {},
   "outputs": [
    {
     "data": {
      "text/plain": [
       "(1532, 31)"
      ]
     },
     "execution_count": 40,
     "metadata": {},
     "output_type": "execute_result"
    }
   ],
   "source": [
    "df2 = newdf.dropna()\n",
    "df.shape\n",
    "#newdf1.head()"
   ]
  },
  {
   "cell_type": "code",
   "execution_count": 41,
   "metadata": {},
   "outputs": [
    {
     "data": {
      "text/plain": [
       "(845, 2)"
      ]
     },
     "execution_count": 41,
     "metadata": {},
     "output_type": "execute_result"
    }
   ],
   "source": [
    "df2.shape"
   ]
  },
  {
   "cell_type": "code",
   "execution_count": 42,
   "metadata": {},
   "outputs": [
    {
     "data": {
      "text/html": [
       "<div>\n",
       "<style scoped>\n",
       "    .dataframe tbody tr th:only-of-type {\n",
       "        vertical-align: middle;\n",
       "    }\n",
       "\n",
       "    .dataframe tbody tr th {\n",
       "        vertical-align: top;\n",
       "    }\n",
       "\n",
       "    .dataframe thead th {\n",
       "        text-align: right;\n",
       "    }\n",
       "</style>\n",
       "<table border=\"1\" class=\"dataframe\">\n",
       "  <thead>\n",
       "    <tr style=\"text-align: right;\">\n",
       "      <th></th>\n",
       "      <th>failure_mode_tm</th>\n",
       "      <th>long_text_notification</th>\n",
       "    </tr>\n",
       "  </thead>\n",
       "  <tbody>\n",
       "    <tr>\n",
       "      <th>1</th>\n",
       "      <td>Worn</td>\n",
       "      <td>18.04.2016 01:58:07 UTC Ronald Piggott (PIGGR9...</td>\n",
       "    </tr>\n",
       "    <tr>\n",
       "      <th>2</th>\n",
       "      <td>Worn</td>\n",
       "      <td>06.06.2016 14:34:43 UTC Ronald Piggott (PIGGR9...</td>\n",
       "    </tr>\n",
       "    <tr>\n",
       "      <th>3</th>\n",
       "      <td>Worn</td>\n",
       "      <td>27.07.2016 13:34:51 UTC Owen Nugent (NUGEO91) ...</td>\n",
       "    </tr>\n",
       "    <tr>\n",
       "      <th>4</th>\n",
       "      <td>Failed</td>\n",
       "      <td>15.10.2013 02:57:03 Stuart Mau (MAUST)    Defi...</td>\n",
       "    </tr>\n",
       "    <tr>\n",
       "      <th>5</th>\n",
       "      <td>Worn</td>\n",
       "      <td>09.01.2017 15:54:12 UTC Kris Day (DAYKR9) Phon...</td>\n",
       "    </tr>\n",
       "  </tbody>\n",
       "</table>\n",
       "</div>"
      ],
      "text/plain": [
       "  failure_mode_tm                             long_text_notification\n",
       "1            Worn  18.04.2016 01:58:07 UTC Ronald Piggott (PIGGR9...\n",
       "2            Worn  06.06.2016 14:34:43 UTC Ronald Piggott (PIGGR9...\n",
       "3            Worn  27.07.2016 13:34:51 UTC Owen Nugent (NUGEO91) ...\n",
       "4          Failed  15.10.2013 02:57:03 Stuart Mau (MAUST)    Defi...\n",
       "5            Worn  09.01.2017 15:54:12 UTC Kris Day (DAYKR9) Phon..."
      ]
     },
     "execution_count": 42,
     "metadata": {},
     "output_type": "execute_result"
    }
   ],
   "source": [
    "df2.head()"
   ]
  },
  {
   "cell_type": "code",
   "execution_count": 43,
   "metadata": {},
   "outputs": [
    {
     "data": {
      "text/plain": [
       "'27.07.2016 13:34:51 UTC Owen Nugent (NUGEO91)    Brief description of what occurred (e.g. basic sequence of events and impacts avoiding the use of personnel names):  Replace Gear Selector   *     Define work requirements; including known materials specialist labour special tools that are required:  10855529 x 1 12-4 for 3 hours   *     *    '"
      ]
     },
     "execution_count": 43,
     "metadata": {},
     "output_type": "execute_result"
    }
   ],
   "source": [
    "myvar = df2['long_text_notification'].loc[3]\n",
    "myvar"
   ]
  },
  {
   "cell_type": "code",
   "execution_count": 44,
   "metadata": {},
   "outputs": [],
   "source": [
    "# Preprocessing 3:\n",
    "# Remove web related garbage\n",
    "# Remove any words with anything other than characters (a-z|A-Z)\n",
    "\n",
    "def remove_garbage(list_words):\n",
    "    new_list = []\n",
    "    for word in list_words:\n",
    "        if word.isalpha(): new_list.append(word)        \n",
    "    return new_list\n"
   ]
  },
  {
   "cell_type": "code",
   "execution_count": 45,
   "metadata": {},
   "outputs": [],
   "source": [
    "def remove_template(str_input):\n",
    "    var2 = str_input[str_input.find('Brief'):]\n",
    "    var3 = var2[var2.find(':') + 1:]\n",
    "    var4 = var3[:var3.find(\"Define\")] + var3[var3.find(':')+ 1:]\n",
    "    var5 = remove_garbage(var4.split())\n",
    "    var6 = [ x.lower() for x in  var5 if len(x) >1 ]\n",
    "    var7 = ' '.join(var6)\n",
    "    \n",
    "    return var7\n",
    "    "
   ]
  },
  {
   "cell_type": "code",
   "execution_count": 46,
   "metadata": {
    "scrolled": true
   },
   "outputs": [
    {
     "name": "stderr",
     "output_type": "stream",
     "text": [
      "/home/profnick/anaconda3/envs/ztdl/lib/python3.6/site-packages/ipykernel_launcher.py:1: SettingWithCopyWarning: \n",
      "A value is trying to be set on a copy of a slice from a DataFrame.\n",
      "Try using .loc[row_indexer,col_indexer] = value instead\n",
      "\n",
      "See the caveats in the documentation: http://pandas.pydata.org/pandas-docs/stable/indexing.html#indexing-view-versus-copy\n",
      "  \"\"\"Entry point for launching an IPython kernel.\n"
     ]
    }
   ],
   "source": [
    "df2['clean_text'] = df2.long_text_notification.apply(lambda words: remove_template(words))"
   ]
  },
  {
   "cell_type": "code",
   "execution_count": 47,
   "metadata": {},
   "outputs": [
    {
     "data": {
      "text/html": [
       "<div>\n",
       "<style scoped>\n",
       "    .dataframe tbody tr th:only-of-type {\n",
       "        vertical-align: middle;\n",
       "    }\n",
       "\n",
       "    .dataframe tbody tr th {\n",
       "        vertical-align: top;\n",
       "    }\n",
       "\n",
       "    .dataframe thead th {\n",
       "        text-align: right;\n",
       "    }\n",
       "</style>\n",
       "<table border=\"1\" class=\"dataframe\">\n",
       "  <thead>\n",
       "    <tr style=\"text-align: right;\">\n",
       "      <th></th>\n",
       "      <th>failure_mode_tm</th>\n",
       "      <th>long_text_notification</th>\n",
       "      <th>clean_text</th>\n",
       "    </tr>\n",
       "  </thead>\n",
       "  <tbody>\n",
       "    <tr>\n",
       "      <th>1</th>\n",
       "      <td>Worn</td>\n",
       "      <td>18.04.2016 01:58:07 UTC Ronald Piggott (PIGGR9...</td>\n",
       "      <td>gear changer not working needs replacing elect...</td>\n",
       "    </tr>\n",
       "    <tr>\n",
       "      <th>2</th>\n",
       "      <td>Worn</td>\n",
       "      <td>06.06.2016 14:34:43 UTC Ronald Piggott (PIGGR9...</td>\n",
       "      <td>gear selector playing up needs replacing elect...</td>\n",
       "    </tr>\n",
       "    <tr>\n",
       "      <th>3</th>\n",
       "      <td>Worn</td>\n",
       "      <td>27.07.2016 13:34:51 UTC Owen Nugent (NUGEO91) ...</td>\n",
       "      <td>replace gear selector for hours</td>\n",
       "    </tr>\n",
       "    <tr>\n",
       "      <th>4</th>\n",
       "      <td>Failed</td>\n",
       "      <td>15.10.2013 02:57:03 Stuart Mau (MAUST)    Defi...</td>\n",
       "      <td></td>\n",
       "    </tr>\n",
       "    <tr>\n",
       "      <th>5</th>\n",
       "      <td>Worn</td>\n",
       "      <td>09.01.2017 15:54:12 UTC Kris Day (DAYKR9) Phon...</td>\n",
       "      <td>whilst completing sos operator reported fault ...</td>\n",
       "    </tr>\n",
       "  </tbody>\n",
       "</table>\n",
       "</div>"
      ],
      "text/plain": [
       "  failure_mode_tm                             long_text_notification  \\\n",
       "1            Worn  18.04.2016 01:58:07 UTC Ronald Piggott (PIGGR9...   \n",
       "2            Worn  06.06.2016 14:34:43 UTC Ronald Piggott (PIGGR9...   \n",
       "3            Worn  27.07.2016 13:34:51 UTC Owen Nugent (NUGEO91) ...   \n",
       "4          Failed  15.10.2013 02:57:03 Stuart Mau (MAUST)    Defi...   \n",
       "5            Worn  09.01.2017 15:54:12 UTC Kris Day (DAYKR9) Phon...   \n",
       "\n",
       "                                          clean_text  \n",
       "1  gear changer not working needs replacing elect...  \n",
       "2  gear selector playing up needs replacing elect...  \n",
       "3                    replace gear selector for hours  \n",
       "4                                                     \n",
       "5  whilst completing sos operator reported fault ...  "
      ]
     },
     "execution_count": 47,
     "metadata": {},
     "output_type": "execute_result"
    }
   ],
   "source": [
    "df2.head()"
   ]
  },
  {
   "cell_type": "code",
   "execution_count": 48,
   "metadata": {},
   "outputs": [
    {
     "data": {
      "text/html": [
       "<div>\n",
       "<style scoped>\n",
       "    .dataframe tbody tr th:only-of-type {\n",
       "        vertical-align: middle;\n",
       "    }\n",
       "\n",
       "    .dataframe tbody tr th {\n",
       "        vertical-align: top;\n",
       "    }\n",
       "\n",
       "    .dataframe thead th {\n",
       "        text-align: right;\n",
       "    }\n",
       "</style>\n",
       "<table border=\"1\" class=\"dataframe\">\n",
       "  <thead>\n",
       "    <tr style=\"text-align: right;\">\n",
       "      <th></th>\n",
       "      <th>failure_mode_tm</th>\n",
       "      <th>long_text_notification</th>\n",
       "      <th>clean_text</th>\n",
       "    </tr>\n",
       "  </thead>\n",
       "  <tbody>\n",
       "    <tr>\n",
       "      <th>1</th>\n",
       "      <td>Worn</td>\n",
       "      <td>18.04.2016 01:58:07 UTC Ronald Piggott (PIGGR9...</td>\n",
       "      <td>gear changer not working needs replacing elect...</td>\n",
       "    </tr>\n",
       "    <tr>\n",
       "      <th>2</th>\n",
       "      <td>Worn</td>\n",
       "      <td>06.06.2016 14:34:43 UTC Ronald Piggott (PIGGR9...</td>\n",
       "      <td>gear selector playing up needs replacing elect...</td>\n",
       "    </tr>\n",
       "    <tr>\n",
       "      <th>3</th>\n",
       "      <td>Worn</td>\n",
       "      <td>27.07.2016 13:34:51 UTC Owen Nugent (NUGEO91) ...</td>\n",
       "      <td>replace gear selector for hours</td>\n",
       "    </tr>\n",
       "    <tr>\n",
       "      <th>5</th>\n",
       "      <td>Worn</td>\n",
       "      <td>09.01.2017 15:54:12 UTC Kris Day (DAYKR9) Phon...</td>\n",
       "      <td>whilst completing sos operator reported fault ...</td>\n",
       "    </tr>\n",
       "    <tr>\n",
       "      <th>7</th>\n",
       "      <td>Worn</td>\n",
       "      <td>09.01.2018 13:23:33 UTC Rory Bean (BEANRX)    ...</td>\n",
       "      <td>faulty selector lever changed out selector lev...</td>\n",
       "    </tr>\n",
       "  </tbody>\n",
       "</table>\n",
       "</div>"
      ],
      "text/plain": [
       "  failure_mode_tm                             long_text_notification  \\\n",
       "1            Worn  18.04.2016 01:58:07 UTC Ronald Piggott (PIGGR9...   \n",
       "2            Worn  06.06.2016 14:34:43 UTC Ronald Piggott (PIGGR9...   \n",
       "3            Worn  27.07.2016 13:34:51 UTC Owen Nugent (NUGEO91) ...   \n",
       "5            Worn  09.01.2017 15:54:12 UTC Kris Day (DAYKR9) Phon...   \n",
       "7            Worn  09.01.2018 13:23:33 UTC Rory Bean (BEANRX)    ...   \n",
       "\n",
       "                                          clean_text  \n",
       "1  gear changer not working needs replacing elect...  \n",
       "2  gear selector playing up needs replacing elect...  \n",
       "3                    replace gear selector for hours  \n",
       "5  whilst completing sos operator reported fault ...  \n",
       "7  faulty selector lever changed out selector lev...  "
      ]
     },
     "execution_count": 48,
     "metadata": {},
     "output_type": "execute_result"
    }
   ],
   "source": [
    "df3 = df2[df2['clean_text'].apply(lambda x: len(x)>0)]\n",
    "\n",
    "#df3.to_csv(\"sample.csv\")\n",
    "df3.head()"
   ]
  },
  {
   "cell_type": "code",
   "execution_count": 49,
   "metadata": {},
   "outputs": [
    {
     "name": "stderr",
     "output_type": "stream",
     "text": [
      "/home/profnick/anaconda3/envs/ztdl/lib/python3.6/site-packages/ipykernel_launcher.py:9: SettingWithCopyWarning: \n",
      "A value is trying to be set on a copy of a slice from a DataFrame.\n",
      "Try using .loc[row_indexer,col_indexer] = value instead\n",
      "\n",
      "See the caveats in the documentation: http://pandas.pydata.org/pandas-docs/stable/indexing.html#indexing-view-versus-copy\n",
      "  if __name__ == '__main__':\n"
     ]
    }
   ],
   "source": [
    "#Remove Stop words\n",
    "from nltk.corpus import stopwords\n",
    "from nltk.stem.snowball import SnowballStemmer\n",
    "from nltk.stem import PorterStemmer, WordNetLemmatizer\n",
    "porter_stemmer = PorterStemmer()\n",
    "stemmer = SnowballStemmer(\"english\")\n",
    "stop = stopwords.words('english')\n",
    "\n",
    "df3['stop_words_removed'] = df3['clean_text'].apply(lambda x: \" \".join(x for x in x.split() if x not in stop))\n"
   ]
  },
  {
   "cell_type": "code",
   "execution_count": 50,
   "metadata": {},
   "outputs": [
    {
     "name": "stderr",
     "output_type": "stream",
     "text": [
      "[nltk_data] Downloading package stopwords to\n",
      "[nltk_data]     /home/profnick/nltk_data...\n",
      "[nltk_data]   Package stopwords is already up-to-date!\n"
     ]
    },
    {
     "data": {
      "text/plain": [
       "True"
      ]
     },
     "execution_count": 50,
     "metadata": {},
     "output_type": "execute_result"
    }
   ],
   "source": [
    "import nltk\n",
    "nltk.download('stopwords')"
   ]
  },
  {
   "cell_type": "code",
   "execution_count": 51,
   "metadata": {},
   "outputs": [
    {
     "name": "stderr",
     "output_type": "stream",
     "text": [
      "/home/profnick/anaconda3/envs/ztdl/lib/python3.6/site-packages/ipykernel_launcher.py:6: SettingWithCopyWarning: \n",
      "A value is trying to be set on a copy of a slice from a DataFrame.\n",
      "Try using .loc[row_indexer,col_indexer] = value instead\n",
      "\n",
      "See the caveats in the documentation: http://pandas.pydata.org/pandas-docs/stable/indexing.html#indexing-view-versus-copy\n",
      "  \n"
     ]
    }
   ],
   "source": [
    "def stem_sentences(sentence):\n",
    "    tokens = sentence.split()\n",
    "    stemmed_tokens = [stemmer.stem(token) for token in tokens]\n",
    "    return ' '.join(stemmed_tokens)\n",
    "\n",
    "df3['stemmed'] = df3['stop_words_removed'].apply(stem_sentences)"
   ]
  },
  {
   "cell_type": "code",
   "execution_count": 52,
   "metadata": {},
   "outputs": [
    {
     "data": {
      "text/html": [
       "<div>\n",
       "<style scoped>\n",
       "    .dataframe tbody tr th:only-of-type {\n",
       "        vertical-align: middle;\n",
       "    }\n",
       "\n",
       "    .dataframe tbody tr th {\n",
       "        vertical-align: top;\n",
       "    }\n",
       "\n",
       "    .dataframe thead th {\n",
       "        text-align: right;\n",
       "    }\n",
       "</style>\n",
       "<table border=\"1\" class=\"dataframe\">\n",
       "  <thead>\n",
       "    <tr style=\"text-align: right;\">\n",
       "      <th></th>\n",
       "      <th>failure_mode_tm</th>\n",
       "      <th>long_text_notification</th>\n",
       "      <th>clean_text</th>\n",
       "      <th>stop_words_removed</th>\n",
       "      <th>stemmed</th>\n",
       "    </tr>\n",
       "  </thead>\n",
       "  <tbody>\n",
       "    <tr>\n",
       "      <th>1</th>\n",
       "      <td>Worn</td>\n",
       "      <td>18.04.2016 01:58:07 UTC Ronald Piggott (PIGGR9...</td>\n",
       "      <td>gear changer not working needs replacing elect...</td>\n",
       "      <td>gear changer working needs replacing elect hrs</td>\n",
       "      <td>gear changer work need replac elect hrs</td>\n",
       "    </tr>\n",
       "    <tr>\n",
       "      <th>2</th>\n",
       "      <td>Worn</td>\n",
       "      <td>06.06.2016 14:34:43 UTC Ronald Piggott (PIGGR9...</td>\n",
       "      <td>gear selector playing up needs replacing elect...</td>\n",
       "      <td>gear selector playing needs replacing elect hrs</td>\n",
       "      <td>gear selector play need replac elect hrs</td>\n",
       "    </tr>\n",
       "    <tr>\n",
       "      <th>3</th>\n",
       "      <td>Worn</td>\n",
       "      <td>27.07.2016 13:34:51 UTC Owen Nugent (NUGEO91) ...</td>\n",
       "      <td>replace gear selector for hours</td>\n",
       "      <td>replace gear selector hours</td>\n",
       "      <td>replac gear selector hour</td>\n",
       "    </tr>\n",
       "    <tr>\n",
       "      <th>5</th>\n",
       "      <td>Worn</td>\n",
       "      <td>09.01.2017 15:54:12 UTC Kris Day (DAYKR9) Phon...</td>\n",
       "      <td>whilst completing sos operator reported fault ...</td>\n",
       "      <td>whilst completing sos operator reported fault ...</td>\n",
       "      <td>whilst complet sos oper report fault gear leav...</td>\n",
       "    </tr>\n",
       "    <tr>\n",
       "      <th>7</th>\n",
       "      <td>Worn</td>\n",
       "      <td>09.01.2018 13:23:33 UTC Rory Bean (BEANRX)    ...</td>\n",
       "      <td>faulty selector lever changed out selector lev...</td>\n",
       "      <td>faulty selector lever changed selector lever f...</td>\n",
       "      <td>faulti selector lever chang selector lever fit...</td>\n",
       "    </tr>\n",
       "  </tbody>\n",
       "</table>\n",
       "</div>"
      ],
      "text/plain": [
       "  failure_mode_tm                             long_text_notification  \\\n",
       "1            Worn  18.04.2016 01:58:07 UTC Ronald Piggott (PIGGR9...   \n",
       "2            Worn  06.06.2016 14:34:43 UTC Ronald Piggott (PIGGR9...   \n",
       "3            Worn  27.07.2016 13:34:51 UTC Owen Nugent (NUGEO91) ...   \n",
       "5            Worn  09.01.2017 15:54:12 UTC Kris Day (DAYKR9) Phon...   \n",
       "7            Worn  09.01.2018 13:23:33 UTC Rory Bean (BEANRX)    ...   \n",
       "\n",
       "                                          clean_text  \\\n",
       "1  gear changer not working needs replacing elect...   \n",
       "2  gear selector playing up needs replacing elect...   \n",
       "3                    replace gear selector for hours   \n",
       "5  whilst completing sos operator reported fault ...   \n",
       "7  faulty selector lever changed out selector lev...   \n",
       "\n",
       "                                  stop_words_removed  \\\n",
       "1     gear changer working needs replacing elect hrs   \n",
       "2    gear selector playing needs replacing elect hrs   \n",
       "3                        replace gear selector hours   \n",
       "5  whilst completing sos operator reported fault ...   \n",
       "7  faulty selector lever changed selector lever f...   \n",
       "\n",
       "                                             stemmed  \n",
       "1            gear changer work need replac elect hrs  \n",
       "2           gear selector play need replac elect hrs  \n",
       "3                          replac gear selector hour  \n",
       "5  whilst complet sos oper report fault gear leav...  \n",
       "7  faulti selector lever chang selector lever fit...  "
      ]
     },
     "execution_count": 52,
     "metadata": {},
     "output_type": "execute_result"
    }
   ],
   "source": [
    "df3.head()"
   ]
  },
  {
   "cell_type": "code",
   "execution_count": 53,
   "metadata": {},
   "outputs": [],
   "source": [
    "#Building the model\n",
    "df3.to_csv('hello.csv')"
   ]
  },
  {
   "cell_type": "code",
   "execution_count": 2,
   "metadata": {},
   "outputs": [],
   "source": [
    "df3 = pd.read_csv('hello.csv')"
   ]
  },
  {
   "cell_type": "code",
   "execution_count": 3,
   "metadata": {},
   "outputs": [],
   "source": [
    "from sklearn.feature_extraction.text import TfidfVectorizer\n",
    "\n",
    "\n",
    "tp_vectorizer = TfidfVectorizer(min_df = 1, binary = True)\n",
    "\n",
    "train_X = df3.iloc[:, :]['stemmed']\n",
    "tp_train_X = tp_vectorizer.fit_transform(train_X)\n",
    "train_Y = df3.iloc[:, :]['failure_mode_tm']\n"
   ]
  },
  {
   "cell_type": "code",
   "execution_count": 4,
   "metadata": {
    "scrolled": true
   },
   "outputs": [
    {
     "data": {
      "text/plain": [
       "worn          185\n",
       "Worn          175\n",
       "Failed        114\n",
       "Inoperable     17\n",
       "damaged        13\n",
       "Damaged        10\n",
       "Fails           5\n",
       "failed          5\n",
       "output          3\n",
       "Wears           1\n",
       "burnt           1\n",
       "cracked         1\n",
       "Name: failure_mode_tm, dtype: int64"
      ]
     },
     "execution_count": 4,
     "metadata": {},
     "output_type": "execute_result"
    }
   ],
   "source": [
    "df3['failure_mode_tm'].value_counts()"
   ]
  },
  {
   "cell_type": "code",
   "execution_count": 5,
   "metadata": {},
   "outputs": [],
   "source": [
    "df3['target'] = df3['failure_mode_tm'].apply(lambda x: x.lower())\n",
    "\n",
    "df3['target_2'] = df3['target'].str.replace('fails', 'failed')"
   ]
  },
  {
   "cell_type": "code",
   "execution_count": 6,
   "metadata": {},
   "outputs": [
    {
     "data": {
      "text/plain": [
       "worn          360\n",
       "failed        124\n",
       "damaged        23\n",
       "inoperable     17\n",
       "output          3\n",
       "burnt           1\n",
       "cracked         1\n",
       "wears           1\n",
       "Name: target_2, dtype: int64"
      ]
     },
     "execution_count": 6,
     "metadata": {},
     "output_type": "execute_result"
    }
   ],
   "source": [
    "df3.head()\n",
    "df3['target_2'].value_counts()"
   ]
  },
  {
   "cell_type": "code",
   "execution_count": 7,
   "metadata": {},
   "outputs": [],
   "source": [
    "df4 = df3.reset_index(drop = True)"
   ]
  },
  {
   "cell_type": "code",
   "execution_count": 8,
   "metadata": {},
   "outputs": [
    {
     "name": "stdout",
     "output_type": "stream",
     "text": [
      "<class 'pandas.core.frame.DataFrame'>\n",
      "RangeIndex: 530 entries, 0 to 529\n",
      "Data columns (total 8 columns):\n",
      "Unnamed: 0                530 non-null int64\n",
      "failure_mode_tm           530 non-null object\n",
      "long_text_notification    530 non-null object\n",
      "clean_text                530 non-null object\n",
      "stop_words_removed        530 non-null object\n",
      "stemmed                   530 non-null object\n",
      "target                    530 non-null object\n",
      "target_2                  530 non-null object\n",
      "dtypes: int64(1), object(7)\n",
      "memory usage: 33.2+ KB\n"
     ]
    }
   ],
   "source": [
    "df4.info()"
   ]
  },
  {
   "cell_type": "code",
   "execution_count": 13,
   "metadata": {},
   "outputs": [],
   "source": [
    "from sklearn import svm\n",
    "#clf = svm.SVC(gamma='scale')\n",
    "\n",
    "clf= svm.SVC(C=1.0, cache_size=200, class_weight=None, coef0=0.0,\n",
    "    decision_function_shape='ovr', degree=3, gamma='auto', kernel='rbf',\n",
    "    max_iter=-1, probability=True, random_state=None, shrinking=True,\n",
    "    tol=0.001, verbose=False)\n",
    "#clf.fit(tp_train_X, train_Y)"
   ]
  },
  {
   "cell_type": "code",
   "execution_count": 20,
   "metadata": {},
   "outputs": [],
   "source": [
    "from sklearn.feature_extraction.text import TfidfVectorizer\n",
    "\n",
    "\n",
    "tp_vectorizer = TfidfVectorizer(min_df = 1)\n",
    "\n",
    "train_X = df4.iloc[:, :]['stop_words_removed']\n",
    "tp_train_X = tp_vectorizer.fit_transform(train_X)\n",
    "train_Y = df4.iloc[:, :]['target_2']"
   ]
  },
  {
   "cell_type": "code",
   "execution_count": 21,
   "metadata": {
    "scrolled": true
   },
   "outputs": [
    {
     "name": "stdout",
     "output_type": "stream",
     "text": [
      "0.7075471698113207\n"
     ]
    }
   ],
   "source": [
    "from sklearn.model_selection import KFold\n",
    "from sklearn.metrics import accuracy_score\n",
    " \n",
    "mykFold = KFold(n_splits=5, random_state=None, shuffle=False)\n",
    "for train_index, test_index in mykFold.split(tp_train_X):\n",
    "#    print(\"TRAIN:\", train_index, \"TEST:\", test_index)\n",
    "    X_train, X_test = tp_train_X[train_index], tp_train_X[test_index]\n",
    "    y_train, y_test = train_Y[train_index], train_Y[test_index]\n",
    "\n",
    "    clf.fit(X_train, y_train)\n",
    "    y_pred = clf.predict(X_test)\n",
    "    acc= accuracy_score(y_test, y_pred)\n",
    "    print(acc)\n",
    "    break"
   ]
  },
  {
   "cell_type": "code",
   "execution_count": 250,
   "metadata": {},
   "outputs": [
    {
     "data": {
      "text/html": [
       "<div>\n",
       "<style scoped>\n",
       "    .dataframe tbody tr th:only-of-type {\n",
       "        vertical-align: middle;\n",
       "    }\n",
       "\n",
       "    .dataframe tbody tr th {\n",
       "        vertical-align: top;\n",
       "    }\n",
       "\n",
       "    .dataframe thead th {\n",
       "        text-align: right;\n",
       "    }\n",
       "</style>\n",
       "<table border=\"1\" class=\"dataframe\">\n",
       "  <thead>\n",
       "    <tr style=\"text-align: right;\">\n",
       "      <th></th>\n",
       "      <th>Unnamed: 0</th>\n",
       "      <th>failure_mode_tm</th>\n",
       "      <th>stop_words_removed</th>\n",
       "    </tr>\n",
       "  </thead>\n",
       "  <tbody>\n",
       "    <tr>\n",
       "      <th>0</th>\n",
       "      <td>1</td>\n",
       "      <td>Worn</td>\n",
       "      <td>gear changer working needs replacing elect hrs</td>\n",
       "    </tr>\n",
       "    <tr>\n",
       "      <th>1</th>\n",
       "      <td>2</td>\n",
       "      <td>Worn</td>\n",
       "      <td>gear selector playing needs replacing elect hrs</td>\n",
       "    </tr>\n",
       "    <tr>\n",
       "      <th>2</th>\n",
       "      <td>3</td>\n",
       "      <td>Worn</td>\n",
       "      <td>replace gear selector hours</td>\n",
       "    </tr>\n",
       "    <tr>\n",
       "      <th>3</th>\n",
       "      <td>5</td>\n",
       "      <td>Worn</td>\n",
       "      <td>whilst completing sos operator reported fault ...</td>\n",
       "    </tr>\n",
       "    <tr>\n",
       "      <th>4</th>\n",
       "      <td>7</td>\n",
       "      <td>Worn</td>\n",
       "      <td>faulty selector lever changed selector lever f...</td>\n",
       "    </tr>\n",
       "  </tbody>\n",
       "</table>\n",
       "</div>"
      ],
      "text/plain": [
       "   Unnamed: 0 failure_mode_tm  \\\n",
       "0           1            Worn   \n",
       "1           2            Worn   \n",
       "2           3            Worn   \n",
       "3           5            Worn   \n",
       "4           7            Worn   \n",
       "\n",
       "                                  stop_words_removed  \n",
       "0     gear changer working needs replacing elect hrs  \n",
       "1    gear selector playing needs replacing elect hrs  \n",
       "2                        replace gear selector hours  \n",
       "3  whilst completing sos operator reported fault ...  \n",
       "4  faulty selector lever changed selector lever f...  "
      ]
     },
     "execution_count": 250,
     "metadata": {},
     "output_type": "execute_result"
    }
   ],
   "source": [
    "newdf  = pd.read_csv('sample_test.csv')\n",
    "newdf.head()"
   ]
  },
  {
   "cell_type": "code",
   "execution_count": 259,
   "metadata": {},
   "outputs": [
    {
     "data": {
      "text/plain": [
       "array(['worn', 'worn', 'worn', 'worn', 'worn', 'worn', 'worn', 'worn',\n",
       "       'worn', 'worn', 'worn', 'worn', 'worn', 'worn', 'worn', 'worn',\n",
       "       'worn', 'worn', 'worn', 'worn', 'worn', 'worn', 'worn', 'worn',\n",
       "       'worn', 'worn', 'worn', 'worn', 'worn', 'worn', 'worn', 'worn',\n",
       "       'worn', 'worn', 'worn', 'worn', 'worn', 'worn', 'worn', 'worn',\n",
       "       'worn', 'worn', 'worn', 'worn', 'worn', 'worn', 'worn', 'worn',\n",
       "       'worn', 'worn', 'worn', 'worn', 'worn', 'worn', 'worn', 'worn',\n",
       "       'worn', 'worn', 'worn', 'worn', 'worn', 'worn', 'worn', 'worn',\n",
       "       'worn', 'worn', 'worn', 'worn', 'worn', 'worn', 'worn', 'worn',\n",
       "       'worn', 'worn', 'worn', 'worn', 'worn', 'worn', 'worn', 'worn',\n",
       "       'worn', 'worn', 'worn', 'worn', 'worn', 'worn', 'worn', 'worn',\n",
       "       'worn', 'worn', 'worn', 'worn', 'worn', 'worn', 'worn', 'worn',\n",
       "       'worn', 'worn', 'worn', 'worn', 'worn', 'worn', 'worn', 'worn',\n",
       "       'worn', 'worn', 'worn', 'worn', 'worn'], dtype=object)"
      ]
     },
     "execution_count": 259,
     "metadata": {},
     "output_type": "execute_result"
    }
   ],
   "source": [
    "#On new data\n",
    "\n",
    "tp_test_X = tp_vectorizer.transform(test_X)\n",
    "clf.predict(tp_test_X)"
   ]
  },
  {
   "cell_type": "code",
   "execution_count": 264,
   "metadata": {},
   "outputs": [],
   "source": [
    "test_X = newdf['stop_words_removed']\n",
    "tp_test_X = tp_vectorizer.transform(test_X)\n",
    "predictions = clf.predict(tp_test_X)\n",
    "confidence = clf.predict_proba(tp_test_X)"
   ]
  },
  {
   "cell_type": "code",
   "execution_count": null,
   "metadata": {},
   "outputs": [],
   "source": [
    "T#this is how the final output shoukd be\n",
    "newdf['predictions'] = predictions\n",
    "#newdf['Probability'] = confidence\n",
    "\n",
    "newdf"
   ]
  },
  {
   "cell_type": "code",
   "execution_count": null,
   "metadata": {},
   "outputs": [],
   "source": [
    "type(confidence)\n",
    "#print(confidence.classes_[order[:, -5:]])\n",
    "df = pd.DataFrame(confidence)\n",
    "df"
   ]
  },
  {
   "cell_type": "markdown",
   "metadata": {},
   "source": [
    "## RANDOM FOREST"
   ]
  },
  {
   "cell_type": "code",
   "execution_count": 24,
   "metadata": {},
   "outputs": [],
   "source": [
    "from sklearn.ensemble import RandomForestClassifier\n",
    "\n",
    "# Instantiate model with 1000 decision trees\n",
    "rf = RandomForestClassifier(n_estimators=600, max_depth=300, max_features='sqrt')"
   ]
  },
  {
   "cell_type": "code",
   "execution_count": 25,
   "metadata": {},
   "outputs": [
    {
     "name": "stdout",
     "output_type": "stream",
     "text": [
      "0.7169811320754716\n"
     ]
    }
   ],
   "source": [
    "# Import the model we are using\n",
    "from sklearn.model_selection import KFold\n",
    "from sklearn.metrics import accuracy_score\n",
    "\n",
    "mykFold = KFold(n_splits=5, random_state=None, shuffle=False)\n",
    "for train_index, test_index in mykFold.split(tp_train_X):\n",
    "#     print(\"TRAIN:\", train_index, \"TEST:\", test_index)\n",
    "    X_train, X_test = tp_train_X[train_index], tp_train_X[test_index]\n",
    "    y_train, y_test = train_Y[train_index], train_Y[test_index]\n",
    "    # Train the model on training data\n",
    "    rf.fit(X_train, y_train)\n",
    "    y_pred = rf.predict(X_test)\n",
    "    acc= accuracy_score(y_test, y_pred)\n",
    "    print(acc)\n",
    "    break"
   ]
  },
  {
   "cell_type": "markdown",
   "metadata": {},
   "source": [
    "## NAIVE BAYESIAN"
   ]
  },
  {
   "cell_type": "code",
   "execution_count": 37,
   "metadata": {},
   "outputs": [],
   "source": [
    "from sklearn.naive_bayes import GaussianNB\n",
    "from sklearn.naive_bayes import GaussianNB, BernoulliNB, MultinomialNB\n",
    "gnb1 = GaussianNB()\n",
    "gnb2 = BernoulliNB()\n",
    "gnb3 = MultinomialNB()"
   ]
  },
  {
   "cell_type": "code",
   "execution_count": 38,
   "metadata": {},
   "outputs": [
    {
     "name": "stdout",
     "output_type": "stream",
     "text": [
      "0.5377358490566038\n"
     ]
    }
   ],
   "source": [
    "# Import the model we are using\n",
    "# Guassian\n",
    "from sklearn.model_selection import KFold\n",
    "from sklearn.metrics import accuracy_score\n",
    "\n",
    "mykFold = KFold(n_splits=5, random_state=None, shuffle=False)\n",
    "for train_index, test_index in mykFold.split(tp_train_X):\n",
    "#     print(\"TRAIN:\", train_index, \"TEST:\", test_index)\n",
    "    X_train, X_test = tp_train_X[train_index], tp_train_X[test_index]\n",
    "    y_train, y_test = train_Y[train_index], train_Y[test_index]\n",
    "    # Train the model on training data\n",
    "    gnb1.fit(X_train.todense(), y_train)\n",
    "    y_pred = gnb1.predict(X_test.todense())\n",
    "    acc= accuracy_score(y_test, y_pred)\n",
    "    print(acc)\n",
    "    break"
   ]
  },
  {
   "cell_type": "code",
   "execution_count": 39,
   "metadata": {},
   "outputs": [
    {
     "name": "stdout",
     "output_type": "stream",
     "text": [
      "0.7452830188679245\n"
     ]
    }
   ],
   "source": [
    "# Import the model we are using\n",
    "# Bernoulli\n",
    "from sklearn.model_selection import KFold\n",
    "from sklearn.metrics import accuracy_score\n",
    "\n",
    "mykFold = KFold(n_splits=5, random_state=None, shuffle=False)\n",
    "for train_index, test_index in mykFold.split(tp_train_X):\n",
    "#     print(\"TRAIN:\", train_index, \"TEST:\", test_index)\n",
    "    X_train, X_test = tp_train_X[train_index], tp_train_X[test_index]\n",
    "    y_train, y_test = train_Y[train_index], train_Y[test_index]\n",
    "    # Train the model on training data\n",
    "    gnb2.fit(X_train.todense(), y_train)\n",
    "    y_pred = gnb2.predict(X_test.todense())\n",
    "    acc= accuracy_score(y_test, y_pred)\n",
    "    print(acc)\n",
    "    break"
   ]
  },
  {
   "cell_type": "code",
   "execution_count": 40,
   "metadata": {},
   "outputs": [
    {
     "name": "stdout",
     "output_type": "stream",
     "text": [
      "0.7358490566037735\n"
     ]
    }
   ],
   "source": [
    "# Import the model we are using\n",
    "# Multinomial\n",
    "\n",
    "from sklearn.model_selection import KFold\n",
    "from sklearn.metrics import accuracy_score\n",
    "\n",
    "mykFold = KFold(n_splits=5, random_state=None, shuffle=False)\n",
    "for train_index, test_index in mykFold.split(tp_train_X):\n",
    "#     print(\"TRAIN:\", train_index, \"TEST:\", test_index)\n",
    "    X_train, X_test = tp_train_X[train_index], tp_train_X[test_index]\n",
    "    y_train, y_test = train_Y[train_index], train_Y[test_index]\n",
    "    # Train the model on training data\n",
    "    gnb3.fit(X_train.todense(), y_train)\n",
    "    y_pred = gnb3.predict(X_test.todense())\n",
    "    acc= accuracy_score(y_test, y_pred)\n",
    "    print(acc)\n",
    "    break"
   ]
  },
  {
   "cell_type": "markdown",
   "metadata": {},
   "source": [
    "## DECISION TREES"
   ]
  },
  {
   "cell_type": "code",
   "execution_count": 33,
   "metadata": {},
   "outputs": [],
   "source": [
    "from sklearn.tree import DecisionTreeClassifier\n",
    "\n",
    "\n",
    "tree = DecisionTreeClassifier(criterion = \"entropy\", splitter = \"random\", max_depth = 2,  min_samples_split = 5,\n",
    "                              min_samples_leaf = 2, max_features = 2)\n"
   ]
  },
  {
   "cell_type": "code",
   "execution_count": 35,
   "metadata": {},
   "outputs": [
    {
     "name": "stdout",
     "output_type": "stream",
     "text": [
      "0.7075471698113207\n"
     ]
    }
   ],
   "source": [
    "mykFold = KFold(n_splits=5, random_state=None, shuffle=False)\n",
    "for train_index, test_index in mykFold.split(tp_train_X):\n",
    "#     print(\"TRAIN:\", train_index, \"TEST:\", test_index)\n",
    "    X_train, X_test = tp_train_X[train_index], tp_train_X[test_index]\n",
    "    y_train, y_test = train_Y[train_index], train_Y[test_index]\n",
    "    # Train the model on training data\n",
    "    tree.fit(X_train, y_train)\n",
    "    y_pred = tree.predict(X_test)\n",
    "    acc= accuracy_score(y_test, y_pred)\n",
    "    print(acc)\n",
    "    break"
   ]
  },
  {
   "cell_type": "markdown",
   "metadata": {},
   "source": [
    "#Further Instructions:\n",
    "\n",
    "Write the final output of the predictions to a CSV file. In the output the predicted class, the propability (condifdence of the prediction) should be appneded to the test data csv file as you have seen above in the dummy example\n",
    "\n",
    "For this task:\n",
    "\n",
    "**Try and build about 3 or 4 different models (ignore basic models like SVM, Logistic Regression, Random Forest), I have already build those models. We will use these models as baseline\n",
    "\n",
    "**IF you want to use these models then you can try an esemble model where you stack 3 or four different classifiers to see what we can get.\n",
    "\n",
    "**But focus on models that use neural nets, LSTM etc like what we discussed the other time.\n",
    "\n",
    "**Behind schedule for this competetion so Please get me something ASAP. \n",
    "\n",
    "**Create a git hub repo with all the instructions in codes and it ans share it with me.\n",
    "\n"
   ]
  },
  {
   "cell_type": "markdown",
   "metadata": {},
   "source": [
    "## BERT SENTENCE CLASSIFICATION"
   ]
  },
  {
   "cell_type": "code",
   "execution_count": 62,
   "metadata": {},
   "outputs": [],
   "source": [
    "from sklearn.preprocessing import LabelEncoder\n",
    "from sklearn.model_selection import train_test_split\n",
    "# from pandas import Dataframe"
   ]
  },
  {
   "cell_type": "code",
   "execution_count": 63,
   "metadata": {},
   "outputs": [],
   "source": [
    "le = LabelEncoder()\n",
    " \n",
    "df = pd.read_csv(\"hello.csv\")\n",
    "df['target'] = df['failure_mode_tm'].apply(lambda x: x.lower())\n",
    "\n",
    "df['target_2'] = df['target'].str.replace('fails', 'failed')\n"
   ]
  },
  {
   "cell_type": "code",
   "execution_count": 64,
   "metadata": {},
   "outputs": [
    {
     "data": {
      "text/html": [
       "<div>\n",
       "<style scoped>\n",
       "    .dataframe tbody tr th:only-of-type {\n",
       "        vertical-align: middle;\n",
       "    }\n",
       "\n",
       "    .dataframe tbody tr th {\n",
       "        vertical-align: top;\n",
       "    }\n",
       "\n",
       "    .dataframe thead th {\n",
       "        text-align: right;\n",
       "    }\n",
       "</style>\n",
       "<table border=\"1\" class=\"dataframe\">\n",
       "  <thead>\n",
       "    <tr style=\"text-align: right;\">\n",
       "      <th></th>\n",
       "      <th>Unnamed: 0</th>\n",
       "      <th>failure_mode_tm</th>\n",
       "      <th>long_text_notification</th>\n",
       "      <th>clean_text</th>\n",
       "      <th>stop_words_removed</th>\n",
       "      <th>stemmed</th>\n",
       "      <th>target</th>\n",
       "      <th>target_2</th>\n",
       "    </tr>\n",
       "  </thead>\n",
       "  <tbody>\n",
       "    <tr>\n",
       "      <th>0</th>\n",
       "      <td>1</td>\n",
       "      <td>Worn</td>\n",
       "      <td>18.04.2016 01:58:07 UTC Ronald Piggott (PIGGR9...</td>\n",
       "      <td>gear changer not working needs replacing elect...</td>\n",
       "      <td>gear changer working needs replacing elect hrs</td>\n",
       "      <td>gear changer work need replac elect hrs</td>\n",
       "      <td>worn</td>\n",
       "      <td>worn</td>\n",
       "    </tr>\n",
       "    <tr>\n",
       "      <th>1</th>\n",
       "      <td>2</td>\n",
       "      <td>Worn</td>\n",
       "      <td>06.06.2016 14:34:43 UTC Ronald Piggott (PIGGR9...</td>\n",
       "      <td>gear selector playing up needs replacing elect...</td>\n",
       "      <td>gear selector playing needs replacing elect hrs</td>\n",
       "      <td>gear selector play need replac elect hrs</td>\n",
       "      <td>worn</td>\n",
       "      <td>worn</td>\n",
       "    </tr>\n",
       "    <tr>\n",
       "      <th>2</th>\n",
       "      <td>3</td>\n",
       "      <td>Worn</td>\n",
       "      <td>27.07.2016 13:34:51 UTC Owen Nugent (NUGEO91) ...</td>\n",
       "      <td>replace gear selector for hours</td>\n",
       "      <td>replace gear selector hours</td>\n",
       "      <td>replac gear selector hour</td>\n",
       "      <td>worn</td>\n",
       "      <td>worn</td>\n",
       "    </tr>\n",
       "    <tr>\n",
       "      <th>3</th>\n",
       "      <td>5</td>\n",
       "      <td>Worn</td>\n",
       "      <td>09.01.2017 15:54:12 UTC Kris Day (DAYKR9) Phon...</td>\n",
       "      <td>whilst completing sos operator reported fault ...</td>\n",
       "      <td>whilst completing sos operator reported fault ...</td>\n",
       "      <td>whilst complet sos oper report fault gear leav...</td>\n",
       "      <td>worn</td>\n",
       "      <td>worn</td>\n",
       "    </tr>\n",
       "    <tr>\n",
       "      <th>4</th>\n",
       "      <td>7</td>\n",
       "      <td>Worn</td>\n",
       "      <td>09.01.2018 13:23:33 UTC Rory Bean (BEANRX)    ...</td>\n",
       "      <td>faulty selector lever changed out selector lev...</td>\n",
       "      <td>faulty selector lever changed selector lever f...</td>\n",
       "      <td>faulti selector lever chang selector lever fit...</td>\n",
       "      <td>worn</td>\n",
       "      <td>worn</td>\n",
       "    </tr>\n",
       "  </tbody>\n",
       "</table>\n",
       "</div>"
      ],
      "text/plain": [
       "   Unnamed: 0 failure_mode_tm  \\\n",
       "0           1            Worn   \n",
       "1           2            Worn   \n",
       "2           3            Worn   \n",
       "3           5            Worn   \n",
       "4           7            Worn   \n",
       "\n",
       "                              long_text_notification  \\\n",
       "0  18.04.2016 01:58:07 UTC Ronald Piggott (PIGGR9...   \n",
       "1  06.06.2016 14:34:43 UTC Ronald Piggott (PIGGR9...   \n",
       "2  27.07.2016 13:34:51 UTC Owen Nugent (NUGEO91) ...   \n",
       "3  09.01.2017 15:54:12 UTC Kris Day (DAYKR9) Phon...   \n",
       "4  09.01.2018 13:23:33 UTC Rory Bean (BEANRX)    ...   \n",
       "\n",
       "                                          clean_text  \\\n",
       "0  gear changer not working needs replacing elect...   \n",
       "1  gear selector playing up needs replacing elect...   \n",
       "2                    replace gear selector for hours   \n",
       "3  whilst completing sos operator reported fault ...   \n",
       "4  faulty selector lever changed out selector lev...   \n",
       "\n",
       "                                  stop_words_removed  \\\n",
       "0     gear changer working needs replacing elect hrs   \n",
       "1    gear selector playing needs replacing elect hrs   \n",
       "2                        replace gear selector hours   \n",
       "3  whilst completing sos operator reported fault ...   \n",
       "4  faulty selector lever changed selector lever f...   \n",
       "\n",
       "                                             stemmed target target_2  \n",
       "0            gear changer work need replac elect hrs   worn     worn  \n",
       "1           gear selector play need replac elect hrs   worn     worn  \n",
       "2                          replac gear selector hour   worn     worn  \n",
       "3  whilst complet sos oper report fault gear leav...   worn     worn  \n",
       "4  faulti selector lever chang selector lever fit...   worn     worn  "
      ]
     },
     "execution_count": 64,
     "metadata": {},
     "output_type": "execute_result"
    }
   ],
   "source": [
    "df.head()"
   ]
  },
  {
   "cell_type": "code",
   "execution_count": 65,
   "metadata": {},
   "outputs": [],
   "source": [
    "# Creating train and dev dataframes according to BERT\n",
    "df_bert = pd.DataFrame({'index':df['Unnamed: 0'],\n",
    "            'label':le.fit_transform(df['target_2']),\n",
    "            'alpha':['a']*df.shape[0],\n",
    "            'text':df['stop_words_removed'].replace(r'\\n',' ',regex=True)})"
   ]
  },
  {
   "cell_type": "code",
   "execution_count": 66,
   "metadata": {},
   "outputs": [],
   "source": [
    "# Train and dev set\n",
    "df_bert_train, df_bert_dev = train_test_split(df_bert, test_size=0.01)"
   ]
  },
  {
   "cell_type": "code",
   "execution_count": 69,
   "metadata": {},
   "outputs": [],
   "source": [
    "# Creating test dataframe according to BERT\n",
    "df_test = pd.read_csv(\"sample_test_data.csv\")\n",
    "# df_test.head()\n",
    "df_bert_test = pd.DataFrame({'':df_test['Unnamed: 0'],\n",
    "                 'text':df_test['stop_words_removed'].replace(r'\\n',' ',regex=True)})"
   ]
  },
  {
   "cell_type": "code",
   "execution_count": 70,
   "metadata": {},
   "outputs": [],
   "source": [
    "# Saving dataframes to .tsv format as required by BERT\n",
    "df_bert_train.to_csv('data/train.tsv', sep='\\t', index=False, header=False)\n",
    "df_bert_dev.to_csv('data/dev.tsv', sep='\\t', index=False, header=False)\n",
    "df_bert_test.to_csv('data/test.tsv', sep='\\t', index=False, header=True)"
   ]
  },
  {
   "cell_type": "code",
   "execution_count": null,
   "metadata": {},
   "outputs": [],
   "source": []
  }
 ],
 "metadata": {
  "kernelspec": {
   "display_name": "Python 3",
   "language": "python",
   "name": "python3"
  },
  "language_info": {
   "codemirror_mode": {
    "name": "ipython",
    "version": 3
   },
   "file_extension": ".py",
   "mimetype": "text/x-python",
   "name": "python",
   "nbconvert_exporter": "python",
   "pygments_lexer": "ipython3",
   "version": "3.6.8"
  }
 },
 "nbformat": 4,
 "nbformat_minor": 2
}

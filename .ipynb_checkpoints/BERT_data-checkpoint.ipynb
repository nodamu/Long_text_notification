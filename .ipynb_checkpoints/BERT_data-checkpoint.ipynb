{
 "cells": [
  {
   "cell_type": "markdown",
   "metadata": {},
   "source": [
    "## BERT SENTENCE CLASSIFICATION"
   ]
  },
  {
   "cell_type": "code",
   "execution_count": 1,
   "metadata": {},
   "outputs": [],
   "source": [
    "from sklearn.preprocessing import LabelEncoder\n",
    "from sklearn.model_selection import train_test_split\n",
    "import pandas as pd\n",
    "import numpy as np\n",
    "import sklearn\n",
    "# from pandas import Dataframe"
   ]
  },
  {
   "cell_type": "code",
   "execution_count": 2,
   "metadata": {},
   "outputs": [],
   "source": [
    "le = LabelEncoder()\n",
    " \n",
    "df = pd.read_csv(\"hello.csv\")\n",
    "df['target'] = df['failure_mode_tm'].apply(lambda x: x.lower())\n",
    "\n",
    "df['target_2'] = df['target'].str.replace('fails', 'failed')\n"
   ]
  },
  {
   "cell_type": "code",
   "execution_count": 3,
   "metadata": {},
   "outputs": [
    {
     "data": {
      "text/html": [
       "<div>\n",
       "<style scoped>\n",
       "    .dataframe tbody tr th:only-of-type {\n",
       "        vertical-align: middle;\n",
       "    }\n",
       "\n",
       "    .dataframe tbody tr th {\n",
       "        vertical-align: top;\n",
       "    }\n",
       "\n",
       "    .dataframe thead th {\n",
       "        text-align: right;\n",
       "    }\n",
       "</style>\n",
       "<table border=\"1\" class=\"dataframe\">\n",
       "  <thead>\n",
       "    <tr style=\"text-align: right;\">\n",
       "      <th></th>\n",
       "      <th>Unnamed: 0</th>\n",
       "      <th>failure_mode_tm</th>\n",
       "      <th>long_text_notification</th>\n",
       "      <th>clean_text</th>\n",
       "      <th>stop_words_removed</th>\n",
       "      <th>stemmed</th>\n",
       "      <th>target</th>\n",
       "      <th>target_2</th>\n",
       "    </tr>\n",
       "  </thead>\n",
       "  <tbody>\n",
       "    <tr>\n",
       "      <th>0</th>\n",
       "      <td>1</td>\n",
       "      <td>Worn</td>\n",
       "      <td>18.04.2016 01:58:07 UTC Ronald Piggott (PIGGR9...</td>\n",
       "      <td>gear changer not working needs replacing elect...</td>\n",
       "      <td>gear changer working needs replacing elect hrs</td>\n",
       "      <td>gear changer work need replac elect hrs</td>\n",
       "      <td>worn</td>\n",
       "      <td>worn</td>\n",
       "    </tr>\n",
       "    <tr>\n",
       "      <th>1</th>\n",
       "      <td>2</td>\n",
       "      <td>Worn</td>\n",
       "      <td>06.06.2016 14:34:43 UTC Ronald Piggott (PIGGR9...</td>\n",
       "      <td>gear selector playing up needs replacing elect...</td>\n",
       "      <td>gear selector playing needs replacing elect hrs</td>\n",
       "      <td>gear selector play need replac elect hrs</td>\n",
       "      <td>worn</td>\n",
       "      <td>worn</td>\n",
       "    </tr>\n",
       "    <tr>\n",
       "      <th>2</th>\n",
       "      <td>3</td>\n",
       "      <td>Worn</td>\n",
       "      <td>27.07.2016 13:34:51 UTC Owen Nugent (NUGEO91) ...</td>\n",
       "      <td>replace gear selector for hours</td>\n",
       "      <td>replace gear selector hours</td>\n",
       "      <td>replac gear selector hour</td>\n",
       "      <td>worn</td>\n",
       "      <td>worn</td>\n",
       "    </tr>\n",
       "    <tr>\n",
       "      <th>3</th>\n",
       "      <td>5</td>\n",
       "      <td>Worn</td>\n",
       "      <td>09.01.2017 15:54:12 UTC Kris Day (DAYKR9) Phon...</td>\n",
       "      <td>whilst completing sos operator reported fault ...</td>\n",
       "      <td>whilst completing sos operator reported fault ...</td>\n",
       "      <td>whilst complet sos oper report fault gear leav...</td>\n",
       "      <td>worn</td>\n",
       "      <td>worn</td>\n",
       "    </tr>\n",
       "    <tr>\n",
       "      <th>4</th>\n",
       "      <td>7</td>\n",
       "      <td>Worn</td>\n",
       "      <td>09.01.2018 13:23:33 UTC Rory Bean (BEANRX)    ...</td>\n",
       "      <td>faulty selector lever changed out selector lev...</td>\n",
       "      <td>faulty selector lever changed selector lever f...</td>\n",
       "      <td>faulti selector lever chang selector lever fit...</td>\n",
       "      <td>worn</td>\n",
       "      <td>worn</td>\n",
       "    </tr>\n",
       "  </tbody>\n",
       "</table>\n",
       "</div>"
      ],
      "text/plain": [
       "   Unnamed: 0 failure_mode_tm  \\\n",
       "0           1            Worn   \n",
       "1           2            Worn   \n",
       "2           3            Worn   \n",
       "3           5            Worn   \n",
       "4           7            Worn   \n",
       "\n",
       "                              long_text_notification  \\\n",
       "0  18.04.2016 01:58:07 UTC Ronald Piggott (PIGGR9...   \n",
       "1  06.06.2016 14:34:43 UTC Ronald Piggott (PIGGR9...   \n",
       "2  27.07.2016 13:34:51 UTC Owen Nugent (NUGEO91) ...   \n",
       "3  09.01.2017 15:54:12 UTC Kris Day (DAYKR9) Phon...   \n",
       "4  09.01.2018 13:23:33 UTC Rory Bean (BEANRX)    ...   \n",
       "\n",
       "                                          clean_text  \\\n",
       "0  gear changer not working needs replacing elect...   \n",
       "1  gear selector playing up needs replacing elect...   \n",
       "2                    replace gear selector for hours   \n",
       "3  whilst completing sos operator reported fault ...   \n",
       "4  faulty selector lever changed out selector lev...   \n",
       "\n",
       "                                  stop_words_removed  \\\n",
       "0     gear changer working needs replacing elect hrs   \n",
       "1    gear selector playing needs replacing elect hrs   \n",
       "2                        replace gear selector hours   \n",
       "3  whilst completing sos operator reported fault ...   \n",
       "4  faulty selector lever changed selector lever f...   \n",
       "\n",
       "                                             stemmed target target_2  \n",
       "0            gear changer work need replac elect hrs   worn     worn  \n",
       "1           gear selector play need replac elect hrs   worn     worn  \n",
       "2                          replac gear selector hour   worn     worn  \n",
       "3  whilst complet sos oper report fault gear leav...   worn     worn  \n",
       "4  faulti selector lever chang selector lever fit...   worn     worn  "
      ]
     },
     "execution_count": 3,
     "metadata": {},
     "output_type": "execute_result"
    }
   ],
   "source": [
    "df.head()"
   ]
  },
  {
   "cell_type": "code",
   "execution_count": 4,
   "metadata": {},
   "outputs": [],
   "source": [
    "# Creating train and dev dataframes according to BERT\n",
    "df_bert = pd.DataFrame({'index':df['Unnamed: 0'],\n",
    "            'label':le.fit_transform(df['target_2']),\n",
    "            'alpha':['a']*df.shape[0],\n",
    "            'text':df['stop_words_removed'].replace(r'\\n',' ',regex=True)})"
   ]
  },
  {
   "cell_type": "code",
   "execution_count": 5,
   "metadata": {},
   "outputs": [],
   "source": [
    "# Train and dev set\n",
    "df_bert_train, df_bert_dev = train_test_split(df_bert, test_size=0.01)"
   ]
  },
  {
   "cell_type": "code",
   "execution_count": 7,
   "metadata": {},
   "outputs": [],
   "source": [
    "# Creating test dataframe according to BERT\n",
    "df_test = pd.read_csv(\"sample_test_data.csv\")\n",
    "# df_test.head()\n",
    "df_bert_test = pd.DataFrame({'':df_test['Unnamed: 0'],\n",
    "                 'text':df_test['stop_words_removed'].replace(r'\\n',' ',regex=True)})"
   ]
  },
  {
   "cell_type": "code",
   "execution_count": null,
   "metadata": {},
   "outputs": [],
   "source": [
    "# Saving dataframes to .tsv format as required by BERT\n",
    "df_bert_train.to_csv('data/train.tsv', sep='\\t', index=False, header=False)\n",
    "df_bert_dev.to_csv('data/dev.tsv', sep='\\t', index=False, header=False)\n",
    "df_bert_test.to_csv('data/test.tsv', sep='\\t', index=False, header=True)"
   ]
  }
 ],
 "metadata": {
  "kernelspec": {
   "display_name": "Python 3",
   "language": "python",
   "name": "python3"
  },
  "language_info": {
   "codemirror_mode": {
    "name": "ipython",
    "version": 3
   },
   "file_extension": ".py",
   "mimetype": "text/x-python",
   "name": "python",
   "nbconvert_exporter": "python",
   "pygments_lexer": "ipython3",
   "version": "3.6.5"
  }
 },
 "nbformat": 4,
 "nbformat_minor": 2
}
